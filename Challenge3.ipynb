{
 "cells": [
  {
   "cell_type": "markdown",
   "metadata": {},
   "source": [
    "# CHALLENGE"
   ]
  },
  {
   "cell_type": "markdown",
   "metadata": {},
   "source": [
    "# Exercice 1\n",
    "### Count the number of lines in Python for each file"
   ]
  },
  {
   "cell_type": "markdown",
   "metadata": {},
   "source": [
    "\n",
    "### Files to use:\n",
    " - bookings.csv.bz2\n",
    " - searches.csv.bz2\n",
    " \n",
    "### Bz2 files are compressed files. They are supossed to be too heavy to open directly\n",
    "### The File bookings.csv.bz2 is a BZ2 file\n",
    "### To work without opennig the file we first we use Bash"
   ]
  },
  {
   "cell_type": "code",
   "execution_count": 1,
   "metadata": {},
   "outputs": [
    {
     "name": "stdout",
     "output_type": "stream",
     "text": [
      "\u001b[0m\u001b[01;31mbookings.csv.bz2\u001b[0m  \u001b[01;31mbookings.sample.csv.bz2\u001b[0m  \u001b[01;31msearches.csv.bz2\u001b[0m\r\n"
     ]
    }
   ],
   "source": [
    "ls /home/dsc/Data/challenge"
   ]
  },
  {
   "cell_type": "code",
   "execution_count": 35,
   "metadata": {},
   "outputs": [
    {
     "name": "stdout",
     "output_type": "stream",
     "text": [
      "\r\n",
      "bzcat: I/O or other error, bailing out.  Possible reason follows.\r\n",
      "bzcat: Broken pipe\r\n",
      "\tInput file = /home/dsc/Data/challenge/bookings.csv.bz2, output file = (stdout)\r\n"
     ]
    }
   ],
   "source": [
    "#Creamos un archivo de ejemplo utilizando Bash \n",
    "#Este archivo de ejemplo es de 10000 lineas para poder trabajar mas facilmente\n",
    "!bzcat /home/dsc/Data/challenge/bookings.csv.bz2 | head -n 10000 >> bookings.sample.csv "
   ]
  },
  {
   "cell_type": "code",
   "execution_count": 36,
   "metadata": {},
   "outputs": [
    {
     "name": "stdout",
     "output_type": "stream",
     "text": [
      "\u001b[0m\u001b[01;31mbookings.csv.bz2\u001b[0m  \u001b[01;31mbookings.sample.csv.bz2\u001b[0m  \u001b[01;31msearches.csv.bz2\u001b[0m\r\n"
     ]
    }
   ],
   "source": [
    "#Vemos que el archivo se aha creado correctamente\n",
    "ls/home/dsc/Data/challenge\n"
   ]
  },
  {
   "cell_type": "markdown",
   "metadata": {},
   "source": [
    "### TWO WAYS TO DO DE FIRST EXERCICE\n",
    "- Using library bz2File\n",
    "- Using library Pandas"
   ]
  },
  {
   "cell_type": "code",
   "execution_count": 37,
   "metadata": {},
   "outputs": [],
   "source": [
    "!bzip2 -f bookings.sample.csv # ¿¿¿ paraque sirve esto ???"
   ]
  },
  {
   "cell_type": "code",
   "execution_count": 38,
   "metadata": {},
   "outputs": [
    {
     "data": {
      "text/plain": [
       "'/home/dsc/Master-Kschool/CHALLENGE/Challenge'"
      ]
     },
     "execution_count": 38,
     "metadata": {},
     "output_type": "execute_result"
    }
   ],
   "source": [
    "pwd"
   ]
  },
  {
   "cell_type": "code",
   "execution_count": 39,
   "metadata": {},
   "outputs": [
    {
     "name": "stdout",
     "output_type": "stream",
     "text": [
      "\u001b[0m\u001b[01;31mbookings.sample.csv.bz2\u001b[0m  Challenge3.ipynb  README.md\r\n",
      "Challenge2.ipynb         Challenge.ipynb   top_ten.csv\r\n"
     ]
    }
   ],
   "source": [
    "ls"
   ]
  },
  {
   "cell_type": "markdown",
   "metadata": {},
   "source": [
    "### First way. Using Library bz2 "
   ]
  },
  {
   "cell_type": "code",
   "execution_count": 51,
   "metadata": {},
   "outputs": [],
   "source": [
    "import bz2"
   ]
  },
  {
   "cell_type": "code",
   "execution_count": 70,
   "metadata": {},
   "outputs": [],
   "source": [
    "#archivo pequeño de prueba\n",
    "bz2_short_file=bz2.BZ2File('bookings.sample.csv.bz2') #descomprimimos "
   ]
  },
  {
   "cell_type": "code",
   "execution_count": 71,
   "metadata": {},
   "outputs": [
    {
     "name": "stdout",
     "output_type": "stream",
     "text": [
      "10000\n"
     ]
    }
   ],
   "source": [
    "c = 0 # contador\n",
    "for line in bz2_short_file:\n",
    "    c +=1\n",
    "print(c)\n",
    "    "
   ]
  },
  {
   "cell_type": "code",
   "execution_count": 72,
   "metadata": {},
   "outputs": [],
   "source": [
    "#archivo grande\n",
    "bz2_big_file=bz2.BZ2File('/home/dsc/Data/challenge/bookings.csv.bz2') #descomprimimos "
   ]
  },
  {
   "cell_type": "code",
   "execution_count": 73,
   "metadata": {},
   "outputs": [
    {
     "name": "stdout",
     "output_type": "stream",
     "text": [
      "1\n"
     ]
    }
   ],
   "source": [
    "k = 0\n",
    "for line in bz2_big_file:\n",
    "    k =+1\n",
    "print(k)"
   ]
  },
  {
   "cell_type": "code",
   "execution_count": null,
   "metadata": {},
   "outputs": [],
   "source": []
  },
  {
   "cell_type": "markdown",
   "metadata": {},
   "source": [
    "###  Second way. Using library Pandas"
   ]
  },
  {
   "cell_type": "code",
   "execution_count": 44,
   "metadata": {},
   "outputs": [],
   "source": [
    "import pandas as pd\n"
   ]
  },
  {
   "cell_type": "code",
   "execution_count": 45,
   "metadata": {},
   "outputs": [],
   "source": [
    "#contamos las lineas leyendo el archivo con pandas\n",
    "#realmente no estamo abriendo el archivo con pandas\n",
    "#se abre pero todavia esta comprimido\n",
    "#creamos un objeto pero de clase TextFileReader --- no es un Data Frame\n",
    "short_file = pd.read_csv('bookings.sample.csv.bz2',\n",
    "                     compression = 'bz2', # compression identifica el tipo de compresion que lleva\n",
    "                     sep= '^', # sep identifica el tipo de separadores que lleva\n",
    "                     iterator = True, #prepara para poder iterar con chunks\n",
    "                     chunksize = 10000) # corta en cachitos el archivo. En este caso iteraciones de 10000"
   ]
  },
  {
   "cell_type": "code",
   "execution_count": 46,
   "metadata": {},
   "outputs": [
    {
     "data": {
      "text/plain": [
       "pandas.io.parsers.TextFileReader"
      ]
     },
     "execution_count": 46,
     "metadata": {},
     "output_type": "execute_result"
    }
   ],
   "source": [
    "type(short_file)"
   ]
  },
  {
   "cell_type": "code",
   "execution_count": 47,
   "metadata": {},
   "outputs": [
    {
     "name": "stdout",
     "output_type": "stream",
     "text": [
      "9999\n"
     ]
    }
   ],
   "source": [
    "c_short_file = 0\n",
    "for rows_short in short_file:\n",
    "    c_short_file += len(rows_short)\n",
    "print(c_short_file)\n"
   ]
  },
  {
   "cell_type": "code",
   "execution_count": 48,
   "metadata": {},
   "outputs": [],
   "source": [
    "big_file = pd.read_csv('/home/dsc/Data/challenge/bookings.csv.bz2',\n",
    "                     compression = 'bz2', # compression identifica el tipo de compresion que lleva\n",
    "                     sep= '^', # sep identifica el tipo de separadores que lleva\n",
    "                     iterator = True, #prepara para poder iterar con chunks\n",
    "                     chunksize = 100000) # corta en cachitos el archivo. En este caso iteraciones de 100000"
   ]
  },
  {
   "cell_type": "code",
   "execution_count": 49,
   "metadata": {},
   "outputs": [
    {
     "name": "stdout",
     "output_type": "stream",
     "text": [
      "10000010\n"
     ]
    }
   ],
   "source": [
    "c_big_file =0\n",
    "for rows_big in big_file:\n",
    "    c_big_file +=len(rows_big)\n",
    "print(c_big_file)"
   ]
  },
  {
   "cell_type": "code",
   "execution_count": null,
   "metadata": {},
   "outputs": [],
   "source": []
  }
 ],
 "metadata": {
  "kernelspec": {
   "display_name": "Python 3",
   "language": "python",
   "name": "python3"
  },
  "language_info": {
   "codemirror_mode": {
    "name": "ipython",
    "version": 3
   },
   "file_extension": ".py",
   "mimetype": "text/x-python",
   "name": "python",
   "nbconvert_exporter": "python",
   "pygments_lexer": "ipython3",
   "version": "3.7.1"
  }
 },
 "nbformat": 4,
 "nbformat_minor": 2
}
