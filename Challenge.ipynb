{
 "cells": [
  {
   "cell_type": "code",
   "execution_count": 43,
   "metadata": {},
   "outputs": [
    {
     "name": "stdout",
     "output_type": "stream",
     "text": [
      "\u001b[0m\u001b[01;31mbookings.csv.bz2\u001b[0m  \u001b[01;31msearches.csv.bz2\u001b[0m\r\n"
     ]
    }
   ],
   "source": [
    "ls/home/dsc/Data/challenge/"
   ]
  },
  {
   "cell_type": "code",
   "execution_count": 44,
   "metadata": {},
   "outputs": [
    {
     "name": "stdout",
     "output_type": "stream",
     "text": [
      "\r\n",
      "bzcat: I/O or other error, bailing out.  Possible reason follows.\r\n",
      "bzcat: Broken pipe\r\n",
      "\tInput file = /home/dsc/Data/challenge/bookings.csv.bz2, output file = (stdout)\r\n"
     ]
    }
   ],
   "source": [
    "!bzcat /home/dsc/Data/challenge/bookings.csv.bz2 | head -n 10000 >> bookings.sample.csv"
   ]
  },
  {
   "cell_type": "code",
   "execution_count": 45,
   "metadata": {},
   "outputs": [],
   "source": [
    "!bzip2 -f bookings.sample.csv"
   ]
  },
  {
   "cell_type": "code",
   "execution_count": 46,
   "metadata": {},
   "outputs": [
    {
     "name": "stdout",
     "output_type": "stream",
     "text": [
      "total 3988\r\n",
      "-rw-rw-r-- 1 dsc dsc  535893 nov 20 17:58 \u001b[0m\u001b[01;31mbookings.sample.csv.bz2\u001b[0m\r\n",
      "drwxrwxr-x 3 dsc dsc    4096 nov 20 17:53 \u001b[01;34mChallenge\u001b[0m/\r\n",
      "-rw-rw-r-- 1 dsc dsc    4172 nov 20 17:55 Challenge.ipynb\r\n",
      "-rw-rw-r-- 1 dsc dsc 3532530 nov 18 20:38 DS_Challenge.pdf\r\n"
     ]
    }
   ],
   "source": [
    "ls -l"
   ]
  },
  {
   "cell_type": "code",
   "execution_count": 47,
   "metadata": {},
   "outputs": [
    {
     "name": "stdout",
     "output_type": "stream",
     "text": [
      "10000\r\n"
     ]
    }
   ],
   "source": [
    "!bzcat bookings.sample.csv.bz2 | wc -l"
   ]
  },
  {
   "cell_type": "code",
   "execution_count": 48,
   "metadata": {},
   "outputs": [],
   "source": [
    "import bz2"
   ]
  },
  {
   "cell_type": "code",
   "execution_count": 49,
   "metadata": {},
   "outputs": [],
   "source": [
    "fileBz2=bz2.BZ2File('./bookings.sample.csv.bz2')"
   ]
  },
  {
   "cell_type": "code",
   "execution_count": 50,
   "metadata": {},
   "outputs": [
    {
     "data": {
      "text/plain": [
       "bz2.BZ2File"
      ]
     },
     "execution_count": 50,
     "metadata": {},
     "output_type": "execute_result"
    }
   ],
   "source": [
    "type(fileBz2)"
   ]
  },
  {
   "cell_type": "code",
   "execution_count": 51,
   "metadata": {},
   "outputs": [
    {
     "name": "stdout",
     "output_type": "stream",
     "text": [
      "10000\n"
     ]
    }
   ],
   "source": [
    "fileBz2=bz2.BZ2File('./bookings.sample.csv.bz2')\n",
    "k=0\n",
    "for line in fileBz2:\n",
    "    k+=1\n",
    "print(k)"
   ]
  },
  {
   "cell_type": "code",
   "execution_count": 52,
   "metadata": {},
   "outputs": [],
   "source": [
    "fileBz2.close()"
   ]
  },
  {
   "cell_type": "code",
   "execution_count": 59,
   "metadata": {},
   "outputs": [
    {
     "name": "stdout",
     "output_type": "stream",
     "text": [
      "10000\n"
     ]
    }
   ],
   "source": [
    "# forma correcta de hacerlo   con comando with\n",
    "with bz2.BZ2File('./bookings.sample.csv.bz2') as fileBz2: \n",
    "    k=0\n",
    "    for line in fileBz2:\n",
    "        k+=1\n",
    "print(k)"
   ]
  },
  {
   "cell_type": "code",
   "execution_count": 42,
   "metadata": {
    "scrolled": true
   },
   "outputs": [
    {
     "data": {
      "text/plain": [
       "'/home/dsc/Master-Kschool/CHALLENGE'"
      ]
     },
     "execution_count": 42,
     "metadata": {},
     "output_type": "execute_result"
    }
   ],
   "source": [
    "pwd"
   ]
  },
  {
   "cell_type": "code",
   "execution_count": 61,
   "metadata": {},
   "outputs": [],
   "source": [
    "import pandas as pd"
   ]
  },
  {
   "cell_type": "markdown",
   "metadata": {},
   "source": [
    "Cuando abro el csv sale con ^.  Para cambiarlo los delimitadores pongo delimiter = \"^\""
   ]
  },
  {
   "cell_type": "code",
   "execution_count": 83,
   "metadata": {},
   "outputs": [],
   "source": [
    "df = pd.read_csv('bookings.sample.csv.bz2',  delimiter = \"^\")"
   ]
  },
  {
   "cell_type": "code",
   "execution_count": 84,
   "metadata": {},
   "outputs": [
    {
     "data": {
      "text/plain": [
       "Index(['act_date           ', 'source', 'pos_ctry', 'pos_iata', 'pos_oid  ',\n",
       "       'rloc          ', 'cre_date           ', 'duration', 'distance',\n",
       "       'dep_port', 'dep_city', 'dep_ctry', 'arr_port', 'arr_city', 'arr_ctry',\n",
       "       'lst_port', 'lst_city', 'lst_ctry', 'brd_port', 'brd_city', 'brd_ctry',\n",
       "       'off_port', 'off_city', 'off_ctry', 'mkt_port', 'mkt_city', 'mkt_ctry',\n",
       "       'intl', 'route          ', 'carrier', 'bkg_class', 'cab_class',\n",
       "       'brd_time           ', 'off_time           ', 'pax', 'year', 'month',\n",
       "       'oid      '],\n",
       "      dtype='object')"
      ]
     },
     "execution_count": 84,
     "metadata": {},
     "output_type": "execute_result"
    }
   ],
   "source": [
    "df.columns"
   ]
  },
  {
   "cell_type": "code",
   "execution_count": 85,
   "metadata": {
    "scrolled": true
   },
   "outputs": [
    {
     "data": {
      "text/html": [
       "<div>\n",
       "<style scoped>\n",
       "    .dataframe tbody tr th:only-of-type {\n",
       "        vertical-align: middle;\n",
       "    }\n",
       "\n",
       "    .dataframe tbody tr th {\n",
       "        vertical-align: top;\n",
       "    }\n",
       "\n",
       "    .dataframe thead th {\n",
       "        text-align: right;\n",
       "    }\n",
       "</style>\n",
       "<table border=\"1\" class=\"dataframe\">\n",
       "  <thead>\n",
       "    <tr style=\"text-align: right;\">\n",
       "      <th></th>\n",
       "      <th>act_date</th>\n",
       "      <th>source</th>\n",
       "      <th>pos_ctry</th>\n",
       "      <th>pos_iata</th>\n",
       "      <th>pos_oid</th>\n",
       "      <th>rloc</th>\n",
       "      <th>cre_date</th>\n",
       "      <th>duration</th>\n",
       "      <th>distance</th>\n",
       "      <th>dep_port</th>\n",
       "      <th>...</th>\n",
       "      <th>route</th>\n",
       "      <th>carrier</th>\n",
       "      <th>bkg_class</th>\n",
       "      <th>cab_class</th>\n",
       "      <th>brd_time</th>\n",
       "      <th>off_time</th>\n",
       "      <th>pax</th>\n",
       "      <th>year</th>\n",
       "      <th>month</th>\n",
       "      <th>oid</th>\n",
       "    </tr>\n",
       "  </thead>\n",
       "  <tbody>\n",
       "    <tr>\n",
       "      <th>0</th>\n",
       "      <td>2013-03-05 00:00:00</td>\n",
       "      <td>1A</td>\n",
       "      <td>DE</td>\n",
       "      <td>a68dd7ae953c8acfb187a1af2dcbe123</td>\n",
       "      <td>1a11ae49fcbf545fd2afc1a24d88d2b7</td>\n",
       "      <td>ea65900e72d71f4626378e2ebd298267</td>\n",
       "      <td>2013-02-22 00:00:00</td>\n",
       "      <td>1708</td>\n",
       "      <td>0</td>\n",
       "      <td>ZRH</td>\n",
       "      <td>...</td>\n",
       "      <td>LHRZRH</td>\n",
       "      <td>VI</td>\n",
       "      <td>T</td>\n",
       "      <td>Y</td>\n",
       "      <td>2013-03-07 08:50:00</td>\n",
       "      <td>2013-03-07 11:33:37</td>\n",
       "      <td>-1</td>\n",
       "      <td>2013</td>\n",
       "      <td>3</td>\n",
       "      <td>NULL</td>\n",
       "    </tr>\n",
       "    <tr>\n",
       "      <th>1</th>\n",
       "      <td>2013-03-26 00:00:00</td>\n",
       "      <td>1A</td>\n",
       "      <td>US</td>\n",
       "      <td>e612b9eeeee6f17f42d9b0d3b79e75ca</td>\n",
       "      <td>7437560d8f276d6d05eeb806d9e7edee</td>\n",
       "      <td>737295a86982c941f1c2da9a46a14043</td>\n",
       "      <td>2013-03-26 00:00:00</td>\n",
       "      <td>135270</td>\n",
       "      <td>0</td>\n",
       "      <td>SAL</td>\n",
       "      <td>...</td>\n",
       "      <td>SALATLCLT</td>\n",
       "      <td>NV</td>\n",
       "      <td>L</td>\n",
       "      <td>Y</td>\n",
       "      <td>2013-04-12 13:04:00</td>\n",
       "      <td>2013-04-12 22:05:40</td>\n",
       "      <td>1</td>\n",
       "      <td>2013</td>\n",
       "      <td>3</td>\n",
       "      <td>NULL</td>\n",
       "    </tr>\n",
       "    <tr>\n",
       "      <th>2</th>\n",
       "      <td>2013-03-26 00:00:00</td>\n",
       "      <td>1A</td>\n",
       "      <td>US</td>\n",
       "      <td>e612b9eeeee6f17f42d9b0d3b79e75ca</td>\n",
       "      <td>7437560d8f276d6d05eeb806d9e7edee</td>\n",
       "      <td>737295a86982c941f1c2da9a46a14043</td>\n",
       "      <td>2013-03-26 00:00:00</td>\n",
       "      <td>135270</td>\n",
       "      <td>0</td>\n",
       "      <td>SAL</td>\n",
       "      <td>...</td>\n",
       "      <td>CLTATLSAL</td>\n",
       "      <td>NV</td>\n",
       "      <td>U</td>\n",
       "      <td>Y</td>\n",
       "      <td>2013-07-15 07:00:00</td>\n",
       "      <td>2013-07-15 11:34:51</td>\n",
       "      <td>1</td>\n",
       "      <td>2013</td>\n",
       "      <td>3</td>\n",
       "      <td>NULL</td>\n",
       "    </tr>\n",
       "    <tr>\n",
       "      <th>3</th>\n",
       "      <td>2013-03-26 00:00:00</td>\n",
       "      <td>1A</td>\n",
       "      <td>AU</td>\n",
       "      <td>0f984b3bb6bd06661c95529bbd6193bc</td>\n",
       "      <td>36472c6dbaf7afec9136ac40364e2794</td>\n",
       "      <td>5ecf00fdcbcec761c43dc7285253d0c1</td>\n",
       "      <td>2013-03-26 00:00:00</td>\n",
       "      <td>30885</td>\n",
       "      <td>0</td>\n",
       "      <td>AKL</td>\n",
       "      <td>...</td>\n",
       "      <td>AKLHKGSVO</td>\n",
       "      <td>XK</td>\n",
       "      <td>G</td>\n",
       "      <td>Y</td>\n",
       "      <td>2013-04-24 23:59:00</td>\n",
       "      <td>2013-04-25 16:06:31</td>\n",
       "      <td>1</td>\n",
       "      <td>2013</td>\n",
       "      <td>3</td>\n",
       "      <td>SYDA82546</td>\n",
       "    </tr>\n",
       "    <tr>\n",
       "      <th>4</th>\n",
       "      <td>2013-03-26 00:00:00</td>\n",
       "      <td>1A</td>\n",
       "      <td>AU</td>\n",
       "      <td>0f984b3bb6bd06661c95529bbd6193bc</td>\n",
       "      <td>36472c6dbaf7afec9136ac40364e2794</td>\n",
       "      <td>5ecf00fdcbcec761c43dc7285253d0c1</td>\n",
       "      <td>2013-03-26 00:00:00</td>\n",
       "      <td>30885</td>\n",
       "      <td>0</td>\n",
       "      <td>AKL</td>\n",
       "      <td>...</td>\n",
       "      <td>SVOHKGAKL</td>\n",
       "      <td>XK</td>\n",
       "      <td>G</td>\n",
       "      <td>Y</td>\n",
       "      <td>2013-05-14 20:15:00</td>\n",
       "      <td>2013-05-16 10:44:50</td>\n",
       "      <td>1</td>\n",
       "      <td>2013</td>\n",
       "      <td>3</td>\n",
       "      <td>SYDA82546</td>\n",
       "    </tr>\n",
       "  </tbody>\n",
       "</table>\n",
       "<p>5 rows × 38 columns</p>\n",
       "</div>"
      ],
      "text/plain": [
       "   act_date             source  pos_ctry                          pos_iata  \\\n",
       "0  2013-03-05 00:00:00  1A      DE        a68dd7ae953c8acfb187a1af2dcbe123   \n",
       "1  2013-03-26 00:00:00  1A      US        e612b9eeeee6f17f42d9b0d3b79e75ca   \n",
       "2  2013-03-26 00:00:00  1A      US        e612b9eeeee6f17f42d9b0d3b79e75ca   \n",
       "3  2013-03-26 00:00:00  1A      AU        0f984b3bb6bd06661c95529bbd6193bc   \n",
       "4  2013-03-26 00:00:00  1A      AU        0f984b3bb6bd06661c95529bbd6193bc   \n",
       "\n",
       "                          pos_oid                      rloc            \\\n",
       "0  1a11ae49fcbf545fd2afc1a24d88d2b7  ea65900e72d71f4626378e2ebd298267   \n",
       "1  7437560d8f276d6d05eeb806d9e7edee  737295a86982c941f1c2da9a46a14043   \n",
       "2  7437560d8f276d6d05eeb806d9e7edee  737295a86982c941f1c2da9a46a14043   \n",
       "3  36472c6dbaf7afec9136ac40364e2794  5ecf00fdcbcec761c43dc7285253d0c1   \n",
       "4  36472c6dbaf7afec9136ac40364e2794  5ecf00fdcbcec761c43dc7285253d0c1   \n",
       "\n",
       "   cre_date             duration  distance  dep_port    ...      \\\n",
       "0  2013-02-22 00:00:00      1708         0  ZRH         ...       \n",
       "1  2013-03-26 00:00:00    135270         0  SAL         ...       \n",
       "2  2013-03-26 00:00:00    135270         0  SAL         ...       \n",
       "3  2013-03-26 00:00:00     30885         0  AKL         ...       \n",
       "4  2013-03-26 00:00:00     30885         0  AKL         ...       \n",
       "\n",
       "   route           carrier  bkg_class  cab_class  brd_time             \\\n",
       "0  LHRZRH               VI  T          Y          2013-03-07 08:50:00   \n",
       "1  SALATLCLT            NV  L          Y          2013-04-12 13:04:00   \n",
       "2  CLTATLSAL            NV  U          Y          2013-07-15 07:00:00   \n",
       "3  AKLHKGSVO            XK  G          Y          2013-04-24 23:59:00   \n",
       "4  SVOHKGAKL            XK  G          Y          2013-05-14 20:15:00   \n",
       "\n",
       "   off_time            pax  year month  oid        \n",
       "0  2013-03-07 11:33:37  -1  2013     3  NULL       \n",
       "1  2013-04-12 22:05:40   1  2013     3  NULL       \n",
       "2  2013-07-15 11:34:51   1  2013     3  NULL       \n",
       "3  2013-04-25 16:06:31   1  2013     3  SYDA82546  \n",
       "4  2013-05-16 10:44:50   1  2013     3  SYDA82546  \n",
       "\n",
       "[5 rows x 38 columns]"
      ]
     },
     "execution_count": 85,
     "metadata": {},
     "output_type": "execute_result"
    }
   ],
   "source": [
    "df.head()"
   ]
  },
  {
   "cell_type": "code",
   "execution_count": 100,
   "metadata": {},
   "outputs": [
    {
     "data": {
      "text/plain": [
       "3638"
      ]
     },
     "execution_count": 100,
     "metadata": {},
     "output_type": "execute_result"
    }
   ],
   "source": [
    "df[df.columns[5]].nunique()"
   ]
  },
  {
   "cell_type": "code",
   "execution_count": 101,
   "metadata": {},
   "outputs": [],
   "source": [
    "df['rloc']= df[df.columns[5]]"
   ]
  },
  {
   "cell_type": "code",
   "execution_count": 103,
   "metadata": {},
   "outputs": [
    {
     "data": {
      "text/plain": [
       "0    ea65900e72d71f4626378e2ebd298267\n",
       "1    737295a86982c941f1c2da9a46a14043\n",
       "2    737295a86982c941f1c2da9a46a14043\n",
       "3    5ecf00fdcbcec761c43dc7285253d0c1\n",
       "4    5ecf00fdcbcec761c43dc7285253d0c1\n",
       "Name: rloc, dtype: object"
      ]
     },
     "execution_count": 103,
     "metadata": {},
     "output_type": "execute_result"
    }
   ],
   "source": [
    "df['rloc'].head()"
   ]
  },
  {
   "cell_type": "code",
   "execution_count": 109,
   "metadata": {},
   "outputs": [
    {
     "data": {
      "text/plain": [
       "9999"
      ]
     },
     "execution_count": 109,
     "metadata": {},
     "output_type": "execute_result"
    }
   ],
   "source": [
    "df.shape[0]"
   ]
  },
  {
   "cell_type": "code",
   "execution_count": 117,
   "metadata": {},
   "outputs": [
    {
     "ename": "TypeError",
     "evalue": "'DataFrame' object is not callable",
     "output_type": "error",
     "traceback": [
      "\u001b[0;31m---------------------------------------------------------------------------\u001b[0m",
      "\u001b[0;31mTypeError\u001b[0m                                 Traceback (most recent call last)",
      "\u001b[0;32m<ipython-input-117-054b29a1f77f>\u001b[0m in \u001b[0;36m<module>\u001b[0;34m\u001b[0m\n\u001b[0;32m----> 1\u001b[0;31m \u001b[0mselection\u001b[0m \u001b[0;34m=\u001b[0m \u001b[0mdf\u001b[0m\u001b[0;34m(\u001b[0m\u001b[0;34m[\u001b[0m\u001b[0;34m'arr_port'\u001b[0m\u001b[0;34m,\u001b[0m\u001b[0;34m'pax'\u001b[0m\u001b[0;34m]\u001b[0m\u001b[0;34m)\u001b[0m\u001b[0;34m\u001b[0m\u001b[0;34m\u001b[0m\u001b[0m\n\u001b[0m",
      "\u001b[0;31mTypeError\u001b[0m: 'DataFrame' object is not callable"
     ]
    }
   ],
   "source": [
    "selection = df['arr_port']"
   ]
  },
  {
   "cell_type": "code",
   "execution_count": null,
   "metadata": {},
   "outputs": [],
   "source": [
    "df[['province', 'capital']]"
   ]
  },
  {
   "cell_type": "code",
   "execution_count": 122,
   "metadata": {},
   "outputs": [],
   "source": [
    "selection = df[['arr_port','pax']]"
   ]
  },
  {
   "cell_type": "code",
   "execution_count": 133,
   "metadata": {},
   "outputs": [
    {
     "data": {
      "text/plain": [
       "arr_port    663\n",
       "pax          21\n",
       "dtype: int64"
      ]
     },
     "execution_count": 133,
     "metadata": {},
     "output_type": "execute_result"
    }
   ],
   "source": [
    "selection.nunique()"
   ]
  },
  {
   "cell_type": "code",
   "execution_count": 149,
   "metadata": {},
   "outputs": [
    {
     "data": {
      "text/html": [
       "<div>\n",
       "<style scoped>\n",
       "    .dataframe tbody tr th:only-of-type {\n",
       "        vertical-align: middle;\n",
       "    }\n",
       "\n",
       "    .dataframe tbody tr th {\n",
       "        vertical-align: top;\n",
       "    }\n",
       "\n",
       "    .dataframe thead th {\n",
       "        text-align: right;\n",
       "    }\n",
       "</style>\n",
       "<table border=\"1\" class=\"dataframe\">\n",
       "  <thead>\n",
       "    <tr style=\"text-align: right;\">\n",
       "      <th></th>\n",
       "      <th>arr_port</th>\n",
       "      <th>pax</th>\n",
       "    </tr>\n",
       "  </thead>\n",
       "  <tbody>\n",
       "    <tr>\n",
       "      <th>0</th>\n",
       "      <td>AAL</td>\n",
       "      <td>0</td>\n",
       "    </tr>\n",
       "    <tr>\n",
       "      <th>1</th>\n",
       "      <td>ABQ</td>\n",
       "      <td>12</td>\n",
       "    </tr>\n",
       "    <tr>\n",
       "      <th>2</th>\n",
       "      <td>ABV</td>\n",
       "      <td>2</td>\n",
       "    </tr>\n",
       "    <tr>\n",
       "      <th>3</th>\n",
       "      <td>ABZ</td>\n",
       "      <td>-6</td>\n",
       "    </tr>\n",
       "    <tr>\n",
       "      <th>4</th>\n",
       "      <td>ACC</td>\n",
       "      <td>4</td>\n",
       "    </tr>\n",
       "  </tbody>\n",
       "</table>\n",
       "</div>"
      ],
      "text/plain": [
       "   arr_port  pax\n",
       "0  AAL         0\n",
       "1  ABQ        12\n",
       "2  ABV         2\n",
       "3  ABZ        -6\n",
       "4  ACC         4"
      ]
     },
     "execution_count": 149,
     "metadata": {},
     "output_type": "execute_result"
    }
   ],
   "source": [
    "import numpy as np\n",
    "selection.groupby(['arr_port']).agg({'pax':'sum'}).reset_index().head()"
   ]
  },
  {
   "cell_type": "code",
   "execution_count": 151,
   "metadata": {},
   "outputs": [
    {
     "data": {
      "text/html": [
       "<div>\n",
       "<style scoped>\n",
       "    .dataframe tbody tr th:only-of-type {\n",
       "        vertical-align: middle;\n",
       "    }\n",
       "\n",
       "    .dataframe tbody tr th {\n",
       "        vertical-align: top;\n",
       "    }\n",
       "\n",
       "    .dataframe thead th {\n",
       "        text-align: right;\n",
       "    }\n",
       "</style>\n",
       "<table border=\"1\" class=\"dataframe\">\n",
       "  <thead>\n",
       "    <tr style=\"text-align: right;\">\n",
       "      <th></th>\n",
       "      <th>pax</th>\n",
       "    </tr>\n",
       "    <tr>\n",
       "      <th>arr_port</th>\n",
       "      <th></th>\n",
       "    </tr>\n",
       "  </thead>\n",
       "  <tbody>\n",
       "    <tr>\n",
       "      <th>AAL</th>\n",
       "      <td>0</td>\n",
       "    </tr>\n",
       "    <tr>\n",
       "      <th>ABQ</th>\n",
       "      <td>12</td>\n",
       "    </tr>\n",
       "    <tr>\n",
       "      <th>ABV</th>\n",
       "      <td>2</td>\n",
       "    </tr>\n",
       "    <tr>\n",
       "      <th>ABZ</th>\n",
       "      <td>-6</td>\n",
       "    </tr>\n",
       "    <tr>\n",
       "      <th>ACC</th>\n",
       "      <td>4</td>\n",
       "    </tr>\n",
       "  </tbody>\n",
       "</table>\n",
       "</div>"
      ],
      "text/plain": [
       "          pax\n",
       "arr_port     \n",
       "AAL         0\n",
       "ABQ        12\n",
       "ABV         2\n",
       "ABZ        -6\n",
       "ACC         4"
      ]
     },
     "execution_count": 151,
     "metadata": {},
     "output_type": "execute_result"
    }
   ],
   "source": [
    "selection.groupby(['arr_port']).sum().head()"
   ]
  },
  {
   "cell_type": "code",
   "execution_count": 161,
   "metadata": {},
   "outputs": [
    {
     "data": {
      "text/plain": [
       "arr_port\n",
       "HKG         112\n",
       "LGA          95\n",
       "ORD          94\n",
       "JFK          92\n",
       "SFO          91\n",
       "LAX          91\n",
       "MCO          90\n",
       "DCA          82\n",
       "DEN          79\n",
       "LHR          76\n",
       "Name: pax, dtype: int64"
      ]
     },
     "execution_count": 161,
     "metadata": {},
     "output_type": "execute_result"
    }
   ],
   "source": [
    "df.groupby('arr_port').sum()['pax'].sort_values(ascending = False)[:10]"
   ]
  },
  {
   "cell_type": "code",
   "execution_count": 164,
   "metadata": {},
   "outputs": [],
   "source": [
    "reader = pd.read_csv('bookings.sample.csv.bz2', compression = 'bz2', sep= '^' , iterator = True, chunksize = 1000)"
   ]
  },
  {
   "cell_type": "code",
   "execution_count": 166,
   "metadata": {},
   "outputs": [
    {
     "name": "stdout",
     "output_type": "stream",
     "text": [
      "      act_date             source  pos_ctry                          pos_iata  \\\n",
      "1000  2013-03-06 00:00:00  1P      US        cd39e7080848043fa76b8d1cd2a9cad2   \n",
      "1001  2013-03-06 00:00:00  1P      US        cd39e7080848043fa76b8d1cd2a9cad2   \n",
      "1002  2013-03-07 00:00:00  1P      US        cd39e7080848043fa76b8d1cd2a9cad2   \n",
      "1003  2013-03-07 00:00:00  1P      US        cd39e7080848043fa76b8d1cd2a9cad2   \n",
      "1004  2013-03-09 00:00:00  1P      US        cd39e7080848043fa76b8d1cd2a9cad2   \n",
      "\n",
      "                             pos_oid                      rloc            \\\n",
      "1000  99df6043f6540c63eac96e7871763680  a94f72a082c740d706b55298fba71ca8   \n",
      "1001  99df6043f6540c63eac96e7871763680  a94f72a082c740d706b55298fba71ca8   \n",
      "1002  99df6043f6540c63eac96e7871763680  a94f72a082c740d706b55298fba71ca8   \n",
      "1003  99df6043f6540c63eac96e7871763680  a94f72a082c740d706b55298fba71ca8   \n",
      "1004  99df6043f6540c63eac96e7871763680  a94f72a082c740d706b55298fba71ca8   \n",
      "\n",
      "      cre_date             duration  distance  dep_port    ...      \\\n",
      "1000  2013-03-06 00:00:00     37626         0  DTW         ...       \n",
      "1001  2013-03-06 00:00:00     37626         0  DTW         ...       \n",
      "1002  2013-03-06 00:00:00     37626         0  DTW         ...       \n",
      "1003  2013-03-06 00:00:00     37626         0  DTW         ...       \n",
      "1004  2013-03-06 00:00:00     37626         0  DTW         ...       \n",
      "\n",
      "      route           carrier  bkg_class  cab_class  brd_time             \\\n",
      "1000  DTWTPE               NV  L          Y          2013-06-27 15:40:00   \n",
      "1001  PVGDTW               NV  K          Y          2013-07-23 16:30:00   \n",
      "1002  PVGDTW               NV  K          Y          2013-07-23 16:30:00   \n",
      "1003  PVGDTW               NV  U          Y          2013-07-23 16:30:00   \n",
      "1004  DTWTPE               NV  L          Y          2013-06-27 15:40:00   \n",
      "\n",
      "      off_time            pax  year month  oid        \n",
      "1000  2013-06-28 18:42:51   3  2013     3  NULL       \n",
      "1001  2013-07-23 18:46:33   3  2013     3  NULL       \n",
      "1002  2013-07-23 18:46:33  -3  2013     3  NULL       \n",
      "1003  2013-07-23 18:46:33   3  2013     3  NULL       \n",
      "1004  2013-06-28 18:42:51  -3  2013     3  NULL       \n",
      "\n",
      "[5 rows x 38 columns]\n",
      "      act_date             source  pos_ctry                          pos_iata  \\\n",
      "1995  2013-03-28 00:00:00  1S      US        98288da9bba5cad33edd41577a7e057b   \n",
      "1996  2013-03-28 00:00:00  1S      US        98288da9bba5cad33edd41577a7e057b   \n",
      "1997  2013-03-28 00:00:00  1S      US        98288da9bba5cad33edd41577a7e057b   \n",
      "1998  2013-03-12 00:00:00  1S      US        f4e0d29647130254dfb671275abd1575   \n",
      "1999  2013-03-13 00:00:00  1G      SA        35e355aa8ed14526b8d6a4a8dcbc2559   \n",
      "\n",
      "                             pos_oid                      rloc            \\\n",
      "1995  311ab50b0612c07ba6b350c15b5002aa  02ab3e3ded19a8cc6eb67c4413debb86   \n",
      "1996  311ab50b0612c07ba6b350c15b5002aa  02ab3e3ded19a8cc6eb67c4413debb86   \n",
      "1997  311ab50b0612c07ba6b350c15b5002aa  02ab3e3ded19a8cc6eb67c4413debb86   \n",
      "1998  8cb4e2e567aa4a30f0cebbdb88ed9e0c  0d9b3b5479e21ac5607e413f29c69bf8   \n",
      "1999  faa877fa152e2deb0293ecbb98c590ec  6cc20f715417fd39543eb677982ba503   \n",
      "\n",
      "      cre_date             duration  distance  dep_port    ...      \\\n",
      "1995  2013-03-26 00:00:00      5651         0  LAX         ...       \n",
      "1996  2013-03-26 00:00:00      5651         0  LAX         ...       \n",
      "1997  2013-03-26 00:00:00      5651         0  LAX         ...       \n",
      "1998  2013-03-12 00:00:00        71       335  AMS         ...       \n",
      "1999  2013-02-14 00:00:00    237585         0  RUH         ...       \n",
      "\n",
      "      route           carrier  bkg_class  cab_class  brd_time             \\\n",
      "1995  ISTLAX               EU  J          C          2013-04-25 12:45:00   \n",
      "1996  LAXIST               EU  J          C          2013-04-22 18:20:00   \n",
      "1997  ISTLAX               EU  D          C          2013-04-26 12:45:00   \n",
      "1998  AMSLCY               LK  Q          Y          2013-04-26 18:25:00   \n",
      "1999  LHERUH               AU  L          Y          2013-07-31 22:30:00   \n",
      "\n",
      "      off_time            pax  year month  oid        \n",
      "1995  2013-04-25 16:31:23  -1  2013     3  NULL       \n",
      "1996  2013-04-23 18:06:23   1  2013     3  NULL       \n",
      "1997  2013-04-26 16:31:23   1  2013     3  NULL       \n",
      "1998  2013-04-26 18:36:38   3  2013     3  NULL       \n",
      "1999  2013-08-01 00:35:39  -1  2013     3  NULL       \n",
      "\n",
      "[5 rows x 38 columns]\n"
     ]
    }
   ],
   "source": [
    "for df in reader :\n",
    "    [rows,cols] = df.shape\n",
    "    bookings_labels = df.columns\n",
    "    bookings_head = df.head()\n",
    "    bookings_tail = df.tail()\n",
    "    break\n",
    "print(bookings_head)\n",
    "print(bookings_tail)"
   ]
  },
  {
   "cell_type": "code",
   "execution_count": 170,
   "metadata": {},
   "outputs": [
    {
     "name": "stdout",
     "output_type": "stream",
     "text": [
      "0\n"
     ]
    }
   ],
   "source": [
    "nlines = 0\n",
    "for df in reader:\n",
    "    nlines = nlines +len(df)\n",
    "print(nlines)"
   ]
  },
  {
   "cell_type": "code",
   "execution_count": null,
   "metadata": {},
   "outputs": [],
   "source": []
  }
 ],
 "metadata": {
  "kernelspec": {
   "display_name": "Python 3",
   "language": "python",
   "name": "python3"
  },
  "language_info": {
   "codemirror_mode": {
    "name": "ipython",
    "version": 3
   },
   "file_extension": ".py",
   "mimetype": "text/x-python",
   "name": "python",
   "nbconvert_exporter": "python",
   "pygments_lexer": "ipython3",
   "version": "3.7.1"
  }
 },
 "nbformat": 4,
 "nbformat_minor": 2
}
