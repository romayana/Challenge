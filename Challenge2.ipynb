{
 "cells": [
  {
   "cell_type": "code",
   "execution_count": 33,
   "metadata": {},
   "outputs": [],
   "source": [
    "# Empezamos viendo donde esta el archivo"
   ]
  },
  {
   "cell_type": "code",
   "execution_count": 82,
   "metadata": {},
   "outputs": [
    {
     "name": "stdout",
     "output_type": "stream",
     "text": [
      "\u001b[0m\u001b[01;31mbookings.csv.bz2\u001b[0m  \u001b[01;31mbookings.sample.csv.bz2\u001b[0m  \u001b[01;31msearches.csv.bz2\u001b[0m\r\n"
     ]
    }
   ],
   "source": [
    "ls/home/dsc/Data/challenge/"
   ]
  },
  {
   "cell_type": "code",
   "execution_count": 35,
   "metadata": {},
   "outputs": [],
   "source": [
    "# vemos que el archivo es un csv.bz2. Es un archivo que esta comprimido. Hay que descomprimirlo\n",
    "# para descomprimir utilizamos un comando en bash : bzcat"
   ]
  },
  {
   "cell_type": "code",
   "execution_count": 36,
   "metadata": {},
   "outputs": [],
   "source": [
    "# es importante hacer las cosas paso a paso con problemas pequeños.\n",
    "# para luego implementarlo a nivel mas grande."
   ]
  },
  {
   "cell_type": "code",
   "execution_count": 83,
   "metadata": {},
   "outputs": [
    {
     "name": "stdout",
     "output_type": "stream",
     "text": [
      "\r\n",
      "bzcat: I/O or other error, bailing out.  Possible reason follows.\r\n",
      "bzcat: Broken pipe\r\n",
      "\tInput file = /home/dsc/Data/challenge/bookings.csv.bz2, output file = (stdout)\r\n"
     ]
    }
   ],
   "source": [
    "# creamos un archivo de sample con 10000 lineas.\n",
    "!bzcat /home/dsc/Data/challenge/bookings.csv.bz2 | head -n 10000 >> bookings.sample.csv"
   ]
  },
  {
   "cell_type": "code",
   "execution_count": 84,
   "metadata": {},
   "outputs": [],
   "source": [
    "!bzip2 -f bookings.sample.csv"
   ]
  },
  {
   "cell_type": "code",
   "execution_count": 94,
   "metadata": {},
   "outputs": [
    {
     "data": {
      "text/plain": [
       "'/home/dsc/Master-Kschool/CHALLENGE'"
      ]
     },
     "execution_count": 94,
     "metadata": {},
     "output_type": "execute_result"
    }
   ],
   "source": [
    "pwd"
   ]
  },
  {
   "cell_type": "code",
   "execution_count": 95,
   "metadata": {},
   "outputs": [
    {
     "name": "stdout",
     "output_type": "stream",
     "text": [
      "total 4020\r\n",
      "-rw-rw-r-- 1 dsc dsc  535893 nov 21 09:55 \u001b[0m\u001b[01;31mbookings.sample.csv.bz2\u001b[0m\r\n",
      "drwxrwxr-x 4 dsc dsc    4096 nov 21 10:03 \u001b[01;34mChallenge\u001b[0m/\r\n",
      "-rw-rw-r-- 1 dsc dsc   35474 nov 21 09:57 Challenge.ipynb\r\n",
      "-rw-rw-r-- 1 dsc dsc 3532530 nov 18 20:38 DS_Challenge.pdf\r\n",
      "-rw-rw-r-- 1 dsc dsc      72 nov 20 18:20 Untitled.ipynb\r\n"
     ]
    }
   ],
   "source": [
    "ls -l"
   ]
  },
  {
   "cell_type": "markdown",
   "metadata": {},
   "source": [
    "### Ejercicio nº1 \n",
    "- Count the number of lines in Python for each file"
   ]
  },
  {
   "cell_type": "code",
   "execution_count": 113,
   "metadata": {},
   "outputs": [],
   "source": [
    "# HACEMOS EL EJERCICIO CON UN SAMPLE PARA HACERLO MAS FACIL\n",
    "# CUANDO SALGA, LO IMPLEMENTAMOS A MAS NIVEL\n",
    "# abrimos con Python."
   ]
  },
  {
   "cell_type": "code",
   "execution_count": 114,
   "metadata": {},
   "outputs": [],
   "source": [
    "import pandas as pd"
   ]
  },
  {
   "cell_type": "code",
   "execution_count": 98,
   "metadata": {},
   "outputs": [],
   "source": [
    "import bz2 #primero importamos bz2 que sirve para descomprimir"
   ]
  },
  {
   "cell_type": "code",
   "execution_count": 106,
   "metadata": {},
   "outputs": [],
   "source": [
    "fileBz2=bz2.BZ2File('./bookings.sample.csv.bz2') #descomprimimos "
   ]
  },
  {
   "cell_type": "code",
   "execution_count": 107,
   "metadata": {},
   "outputs": [
    {
     "data": {
      "text/plain": [
       "bz2.BZ2File"
      ]
     },
     "execution_count": 107,
     "metadata": {},
     "output_type": "execute_result"
    }
   ],
   "source": [
    "type(fileBz2)"
   ]
  },
  {
   "cell_type": "code",
   "execution_count": 108,
   "metadata": {},
   "outputs": [
    {
     "data": {
      "text/plain": [
       "'/home/dsc/Master-Kschool/CHALLENGE'"
      ]
     },
     "execution_count": 108,
     "metadata": {},
     "output_type": "execute_result"
    }
   ],
   "source": [
    "pwd"
   ]
  },
  {
   "cell_type": "code",
   "execution_count": 109,
   "metadata": {},
   "outputs": [
    {
     "name": "stdout",
     "output_type": "stream",
     "text": [
      "total 4020\r\n",
      "-rw-rw-r-- 1 dsc dsc  535893 nov 21 09:55 \u001b[0m\u001b[01;31mbookings.sample.csv.bz2\u001b[0m\r\n",
      "drwxrwxr-x 4 dsc dsc    4096 nov 21 10:05 \u001b[01;34mChallenge\u001b[0m/\r\n",
      "-rw-rw-r-- 1 dsc dsc   35474 nov 21 09:57 Challenge.ipynb\r\n",
      "-rw-rw-r-- 1 dsc dsc 3532530 nov 18 20:38 DS_Challenge.pdf\r\n",
      "-rw-rw-r-- 1 dsc dsc      72 nov 20 18:20 Untitled.ipynb\r\n"
     ]
    }
   ],
   "source": [
    "ls -l"
   ]
  },
  {
   "cell_type": "code",
   "execution_count": 112,
   "metadata": {},
   "outputs": [
    {
     "name": "stdout",
     "output_type": "stream",
     "text": [
      "10000\n"
     ]
    }
   ],
   "source": [
    "fileBz2=bz2.BZ2File('./bookings.sample.csv.bz2')\n",
    "k=0\n",
    "for line in fileBz2:\n",
    "    k+=1\n",
    "print(k)"
   ]
  },
  {
   "cell_type": "code",
   "execution_count": 115,
   "metadata": {},
   "outputs": [],
   "source": [
    "#HEMOS SACADO LAS FILAS CON UN SARCHIVO DE SAMPLE.\n",
    "#COMO VEMOS QUE FUNCIONA, AHORA LO HACEMOS CON TODO EL ARCHIVO bookings.csv.bz2"
   ]
  },
  {
   "cell_type": "code",
   "execution_count": 117,
   "metadata": {},
   "outputs": [
    {
     "name": "stdout",
     "output_type": "stream",
     "text": [
      "10000011\n"
     ]
    }
   ],
   "source": [
    "archivogrande=bz2.BZ2File('/home/dsc/Data/challenge/bookings.csv.bz2') # LO CONSEGUIMOS #\n",
    "k=0\n",
    "for line in archivogrande:\n",
    "    k+=1\n",
    "print(k)"
   ]
  },
  {
   "cell_type": "markdown",
   "metadata": {},
   "source": [
    "### Ejercicio 2\n",
    "Top 10 arrival airports in the world in 2013 (using the bookings file)\n",
    "- Arrival airport is the column arr_port. It is the IATA code for the airport\n",
    "- To get the total number of passengers for an airport, you can sum the column pax, grouping by arr_port. Note that there is negative pax. That corresponds to cancelations. So to get the total number of passengers that have actually booked, you should sum including the negatives (that will remove the canceled bookings).\n",
    "- Print the top 10 arrival airports in the standard output, including the number of passengers.\n",
    "- Bonus point: Get the name of the city or airport corresponding to that airport (programatically, we suggest to have a look at GeoBases in Github)•Bonus point: Solve this problem using pandas (instead of any other approach)"
   ]
  },
  {
   "cell_type": "code",
   "execution_count": 118,
   "metadata": {},
   "outputs": [],
   "source": [
    "# EMPEZAMOS EL EJERCICIO UTILIZANDO EL ARCHIVO DE SAMPLE CREADO.\n",
    "# VEMOS EXACTAMENTE QUE ES LO QUE NOS PIDEN\n",
    "# HAY QUE HACERLO PASO A PASO PARA LUEGO IMPLEMENTARLO A MAS NIVEL"
   ]
  },
  {
   "cell_type": "code",
   "execution_count": 119,
   "metadata": {},
   "outputs": [],
   "source": [
    "import pandas as pd"
   ]
  },
  {
   "cell_type": "code",
   "execution_count": 120,
   "metadata": {},
   "outputs": [],
   "source": [
    "sample = pd.read_csv('/home/dsc/Master-Kschool/CHALLENGE/bookings.sample.csv.bz2')"
   ]
  },
  {
   "cell_type": "code",
   "execution_count": 121,
   "metadata": {},
   "outputs": [
    {
     "data": {
      "text/html": [
       "<div>\n",
       "<style scoped>\n",
       "    .dataframe tbody tr th:only-of-type {\n",
       "        vertical-align: middle;\n",
       "    }\n",
       "\n",
       "    .dataframe tbody tr th {\n",
       "        vertical-align: top;\n",
       "    }\n",
       "\n",
       "    .dataframe thead th {\n",
       "        text-align: right;\n",
       "    }\n",
       "</style>\n",
       "<table border=\"1\" class=\"dataframe\">\n",
       "  <thead>\n",
       "    <tr style=\"text-align: right;\">\n",
       "      <th></th>\n",
       "      <th>act_date           ^source^pos_ctry^pos_iata^pos_oid  ^rloc          ^cre_date           ^duration^distance^dep_port^dep_city^dep_ctry^arr_port^arr_city^arr_ctry^lst_port^lst_city^lst_ctry^brd_port^brd_city^brd_ctry^off_port^off_city^off_ctry^mkt_port^mkt_city^mkt_ctry^intl^route          ^carrier^bkg_class^cab_class^brd_time           ^off_time           ^pax^year^month^oid</th>\n",
       "    </tr>\n",
       "  </thead>\n",
       "  <tbody>\n",
       "    <tr>\n",
       "      <th>0</th>\n",
       "      <td>2013-03-05 00:00:00^1A    ^DE      ^a68dd7ae95...</td>\n",
       "    </tr>\n",
       "    <tr>\n",
       "      <th>1</th>\n",
       "      <td>2013-03-26 00:00:00^1A    ^US      ^e612b9eeee...</td>\n",
       "    </tr>\n",
       "    <tr>\n",
       "      <th>2</th>\n",
       "      <td>2013-03-26 00:00:00^1A    ^US      ^e612b9eeee...</td>\n",
       "    </tr>\n",
       "    <tr>\n",
       "      <th>3</th>\n",
       "      <td>2013-03-26 00:00:00^1A    ^AU      ^0f984b3bb6...</td>\n",
       "    </tr>\n",
       "    <tr>\n",
       "      <th>4</th>\n",
       "      <td>2013-03-26 00:00:00^1A    ^AU      ^0f984b3bb6...</td>\n",
       "    </tr>\n",
       "  </tbody>\n",
       "</table>\n",
       "</div>"
      ],
      "text/plain": [
       "  act_date           ^source^pos_ctry^pos_iata^pos_oid  ^rloc          ^cre_date           ^duration^distance^dep_port^dep_city^dep_ctry^arr_port^arr_city^arr_ctry^lst_port^lst_city^lst_ctry^brd_port^brd_city^brd_ctry^off_port^off_city^off_ctry^mkt_port^mkt_city^mkt_ctry^intl^route          ^carrier^bkg_class^cab_class^brd_time           ^off_time           ^pax^year^month^oid      \n",
       "0  2013-03-05 00:00:00^1A    ^DE      ^a68dd7ae95...                                                                                                                                                                                                                                                                                                                                             \n",
       "1  2013-03-26 00:00:00^1A    ^US      ^e612b9eeee...                                                                                                                                                                                                                                                                                                                                             \n",
       "2  2013-03-26 00:00:00^1A    ^US      ^e612b9eeee...                                                                                                                                                                                                                                                                                                                                             \n",
       "3  2013-03-26 00:00:00^1A    ^AU      ^0f984b3bb6...                                                                                                                                                                                                                                                                                                                                             \n",
       "4  2013-03-26 00:00:00^1A    ^AU      ^0f984b3bb6...                                                                                                                                                                                                                                                                                                                                             "
      ]
     },
     "execution_count": 121,
     "metadata": {},
     "output_type": "execute_result"
    }
   ],
   "source": [
    "sample.head()"
   ]
  },
  {
   "cell_type": "code",
   "execution_count": 122,
   "metadata": {},
   "outputs": [],
   "source": [
    "# primer problema. Las columnas estan separadas por ^.  Hay que arreglarlo"
   ]
  },
  {
   "cell_type": "code",
   "execution_count": 123,
   "metadata": {},
   "outputs": [],
   "source": [
    "sample = pd.read_csv('/home/dsc/Master-Kschool/CHALLENGE/bookings.sample.csv.bz2', sep='^')"
   ]
  },
  {
   "cell_type": "code",
   "execution_count": 126,
   "metadata": {},
   "outputs": [
    {
     "data": {
      "text/html": [
       "<div>\n",
       "<style scoped>\n",
       "    .dataframe tbody tr th:only-of-type {\n",
       "        vertical-align: middle;\n",
       "    }\n",
       "\n",
       "    .dataframe tbody tr th {\n",
       "        vertical-align: top;\n",
       "    }\n",
       "\n",
       "    .dataframe thead th {\n",
       "        text-align: right;\n",
       "    }\n",
       "</style>\n",
       "<table border=\"1\" class=\"dataframe\">\n",
       "  <thead>\n",
       "    <tr style=\"text-align: right;\">\n",
       "      <th></th>\n",
       "      <th>act_date</th>\n",
       "      <th>source</th>\n",
       "      <th>pos_ctry</th>\n",
       "      <th>pos_iata</th>\n",
       "      <th>pos_oid</th>\n",
       "      <th>rloc</th>\n",
       "      <th>cre_date</th>\n",
       "      <th>duration</th>\n",
       "      <th>distance</th>\n",
       "      <th>dep_port</th>\n",
       "      <th>...</th>\n",
       "      <th>route</th>\n",
       "      <th>carrier</th>\n",
       "      <th>bkg_class</th>\n",
       "      <th>cab_class</th>\n",
       "      <th>brd_time</th>\n",
       "      <th>off_time</th>\n",
       "      <th>pax</th>\n",
       "      <th>year</th>\n",
       "      <th>month</th>\n",
       "      <th>oid</th>\n",
       "    </tr>\n",
       "  </thead>\n",
       "  <tbody>\n",
       "    <tr>\n",
       "      <th>533</th>\n",
       "      <td>2013-03-09 00:00:00</td>\n",
       "      <td>1P</td>\n",
       "      <td>US</td>\n",
       "      <td>4804033f441ee30d92980c8b2207e8ae</td>\n",
       "      <td>4868da7a1666bbbc5fe33d377690f8eb</td>\n",
       "      <td>432cb17f3c5eacb0ee27f2b619da76e2</td>\n",
       "      <td>2013-03-04 00:00:00</td>\n",
       "      <td>5925</td>\n",
       "      <td>0</td>\n",
       "      <td>BDL</td>\n",
       "      <td>...</td>\n",
       "      <td>BDLORD</td>\n",
       "      <td>FK</td>\n",
       "      <td>W</td>\n",
       "      <td>Y</td>\n",
       "      <td>2013-06-28 11:21:00</td>\n",
       "      <td>2013-06-28 12:37:38</td>\n",
       "      <td>-1</td>\n",
       "      <td>2013</td>\n",
       "      <td>3</td>\n",
       "      <td>NULL</td>\n",
       "    </tr>\n",
       "    <tr>\n",
       "      <th>8729</th>\n",
       "      <td>2013-03-08 00:00:00</td>\n",
       "      <td>1S</td>\n",
       "      <td>US</td>\n",
       "      <td>4c7fe5d0573641f4473e7ebc64829ecb</td>\n",
       "      <td>84e66dbde8d304b295077c439198c304</td>\n",
       "      <td>0c797c2761e0a1f3b2eff5b28064e612</td>\n",
       "      <td>2013-03-08 00:00:00</td>\n",
       "      <td>43077</td>\n",
       "      <td>0</td>\n",
       "      <td>LAX</td>\n",
       "      <td>...</td>\n",
       "      <td>LAXCAN</td>\n",
       "      <td>MK</td>\n",
       "      <td>M</td>\n",
       "      <td>Y</td>\n",
       "      <td>2013-03-22 23:00:00</td>\n",
       "      <td>2013-03-24 04:27:36</td>\n",
       "      <td>1</td>\n",
       "      <td>2013</td>\n",
       "      <td>3</td>\n",
       "      <td>NULL</td>\n",
       "    </tr>\n",
       "    <tr>\n",
       "      <th>3278</th>\n",
       "      <td>2013-03-19 00:00:00</td>\n",
       "      <td>1G</td>\n",
       "      <td>IN</td>\n",
       "      <td>38a5291464c1cce6b5b60a4677bfd821</td>\n",
       "      <td>befcdcb5dcc9d0dacd6b821f2bba3ffe</td>\n",
       "      <td>7ba8194db67e2b0acdbbbc53248c84a2</td>\n",
       "      <td>2012-11-15 00:00:00</td>\n",
       "      <td>260984</td>\n",
       "      <td>0</td>\n",
       "      <td>DEL</td>\n",
       "      <td>...</td>\n",
       "      <td>ABVADDDEL</td>\n",
       "      <td>OE</td>\n",
       "      <td>L</td>\n",
       "      <td>Y</td>\n",
       "      <td>2013-05-17 13:50:00</td>\n",
       "      <td>2013-05-18 08:54:08</td>\n",
       "      <td>1</td>\n",
       "      <td>2013</td>\n",
       "      <td>3</td>\n",
       "      <td>NULL</td>\n",
       "    </tr>\n",
       "    <tr>\n",
       "      <th>8152</th>\n",
       "      <td>2013-03-25 00:00:00</td>\n",
       "      <td>1A</td>\n",
       "      <td>DE</td>\n",
       "      <td>0c7f99311b0ede5f1974db685bd218e4</td>\n",
       "      <td>f9ab664e0cda20bafa1495b18f8b7153</td>\n",
       "      <td>781ba73cf6e1de0a297381e45d060cb0</td>\n",
       "      <td>2013-03-12 00:00:00</td>\n",
       "      <td>27226</td>\n",
       "      <td>0</td>\n",
       "      <td>DUS</td>\n",
       "      <td>...</td>\n",
       "      <td>DUSORDSFO</td>\n",
       "      <td>LK</td>\n",
       "      <td>K</td>\n",
       "      <td>Y</td>\n",
       "      <td>2013-07-21 09:45:00</td>\n",
       "      <td>2013-07-21 16:37:05</td>\n",
       "      <td>-1</td>\n",
       "      <td>2013</td>\n",
       "      <td>3</td>\n",
       "      <td>BREL121CT</td>\n",
       "    </tr>\n",
       "    <tr>\n",
       "      <th>7564</th>\n",
       "      <td>2013-03-04 00:00:00</td>\n",
       "      <td>1S</td>\n",
       "      <td>SG</td>\n",
       "      <td>fbab9b67b73f4352610612316b23c5c0</td>\n",
       "      <td>9af9f36c58997421ac4b717e754b1007</td>\n",
       "      <td>6e654c16c7a7c91afe7b2154ae5130d3</td>\n",
       "      <td>2013-02-01 00:00:00</td>\n",
       "      <td>9050</td>\n",
       "      <td>0</td>\n",
       "      <td>SIN</td>\n",
       "      <td>...</td>\n",
       "      <td>LHRSIN</td>\n",
       "      <td>DB</td>\n",
       "      <td>J</td>\n",
       "      <td>C</td>\n",
       "      <td>2013-03-08 18:15:00</td>\n",
       "      <td>2013-03-09 15:50:44</td>\n",
       "      <td>-1</td>\n",
       "      <td>2013</td>\n",
       "      <td>3</td>\n",
       "      <td>NULL</td>\n",
       "    </tr>\n",
       "  </tbody>\n",
       "</table>\n",
       "<p>5 rows × 38 columns</p>\n",
       "</div>"
      ],
      "text/plain": [
       "      act_date             source  pos_ctry                          pos_iata  \\\n",
       "533   2013-03-09 00:00:00  1P      US        4804033f441ee30d92980c8b2207e8ae   \n",
       "8729  2013-03-08 00:00:00  1S      US        4c7fe5d0573641f4473e7ebc64829ecb   \n",
       "3278  2013-03-19 00:00:00  1G      IN        38a5291464c1cce6b5b60a4677bfd821   \n",
       "8152  2013-03-25 00:00:00  1A      DE        0c7f99311b0ede5f1974db685bd218e4   \n",
       "7564  2013-03-04 00:00:00  1S      SG        fbab9b67b73f4352610612316b23c5c0   \n",
       "\n",
       "                             pos_oid                      rloc            \\\n",
       "533   4868da7a1666bbbc5fe33d377690f8eb  432cb17f3c5eacb0ee27f2b619da76e2   \n",
       "8729  84e66dbde8d304b295077c439198c304  0c797c2761e0a1f3b2eff5b28064e612   \n",
       "3278  befcdcb5dcc9d0dacd6b821f2bba3ffe  7ba8194db67e2b0acdbbbc53248c84a2   \n",
       "8152  f9ab664e0cda20bafa1495b18f8b7153  781ba73cf6e1de0a297381e45d060cb0   \n",
       "7564  9af9f36c58997421ac4b717e754b1007  6e654c16c7a7c91afe7b2154ae5130d3   \n",
       "\n",
       "      cre_date             duration  distance  dep_port    ...      \\\n",
       "533   2013-03-04 00:00:00      5925         0  BDL         ...       \n",
       "8729  2013-03-08 00:00:00     43077         0  LAX         ...       \n",
       "3278  2012-11-15 00:00:00    260984         0  DEL         ...       \n",
       "8152  2013-03-12 00:00:00     27226         0  DUS         ...       \n",
       "7564  2013-02-01 00:00:00      9050         0  SIN         ...       \n",
       "\n",
       "      route           carrier  bkg_class  cab_class  brd_time             \\\n",
       "533   BDLORD               FK  W          Y          2013-06-28 11:21:00   \n",
       "8729  LAXCAN               MK  M          Y          2013-03-22 23:00:00   \n",
       "3278     ABVADDDEL         OE  L          Y          2013-05-17 13:50:00   \n",
       "8152     DUSORDSFO         LK  K          Y          2013-07-21 09:45:00   \n",
       "7564     LHRSIN            DB  J          C          2013-03-08 18:15:00   \n",
       "\n",
       "      off_time            pax  year month  oid        \n",
       "533   2013-06-28 12:37:38  -1  2013     3  NULL       \n",
       "8729  2013-03-24 04:27:36   1  2013     3  NULL       \n",
       "3278  2013-05-18 08:54:08   1  2013     3  NULL       \n",
       "8152  2013-07-21 16:37:05  -1  2013     3  BREL121CT  \n",
       "7564  2013-03-09 15:50:44  -1  2013     3  NULL       \n",
       "\n",
       "[5 rows x 38 columns]"
      ]
     },
     "execution_count": 126,
     "metadata": {},
     "output_type": "execute_result"
    }
   ],
   "source": [
    "sample.sample(5)"
   ]
  },
  {
   "cell_type": "code",
   "execution_count": null,
   "metadata": {},
   "outputs": [],
   "source": []
  }
 ],
 "metadata": {
  "kernelspec": {
   "display_name": "Python 3",
   "language": "python",
   "name": "python3"
  },
  "language_info": {
   "codemirror_mode": {
    "name": "ipython",
    "version": 3
   },
   "file_extension": ".py",
   "mimetype": "text/x-python",
   "name": "python",
   "nbconvert_exporter": "python",
   "pygments_lexer": "ipython3",
   "version": "3.7.1"
  }
 },
 "nbformat": 4,
 "nbformat_minor": 2
}
