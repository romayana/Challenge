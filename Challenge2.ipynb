{
 "cells": [
  {
   "cell_type": "code",
   "execution_count": 33,
   "metadata": {},
   "outputs": [],
   "source": [
    "# Empezamos viendo donde esta el archivo"
   ]
  },
  {
   "cell_type": "code",
   "execution_count": 82,
   "metadata": {},
   "outputs": [
    {
     "name": "stdout",
     "output_type": "stream",
     "text": [
      "\u001b[0m\u001b[01;31mbookings.csv.bz2\u001b[0m  \u001b[01;31mbookings.sample.csv.bz2\u001b[0m  \u001b[01;31msearches.csv.bz2\u001b[0m\r\n"
     ]
    }
   ],
   "source": [
    "ls/home/dsc/Data/challenge/"
   ]
  },
  {
   "cell_type": "code",
   "execution_count": 35,
   "metadata": {},
   "outputs": [],
   "source": [
    "# vemos que el archivo es un csv.bz2. Es un archivo que esta comprimido. Hay que descomprimirlo\n",
    "# para descomprimir utilizamos un comando en bash : bzcat"
   ]
  },
  {
   "cell_type": "code",
   "execution_count": 36,
   "metadata": {},
   "outputs": [],
   "source": [
    "# es importante hacer las cosas paso a paso con problemas pequeños.\n",
    "# para luego implementarlo a nivel mas grande."
   ]
  },
  {
   "cell_type": "code",
   "execution_count": 83,
   "metadata": {},
   "outputs": [
    {
     "name": "stdout",
     "output_type": "stream",
     "text": [
      "\r\n",
      "bzcat: I/O or other error, bailing out.  Possible reason follows.\r\n",
      "bzcat: Broken pipe\r\n",
      "\tInput file = /home/dsc/Data/challenge/bookings.csv.bz2, output file = (stdout)\r\n"
     ]
    }
   ],
   "source": [
    "# creamos un archivo de sample con 10000 lineas.\n",
    "!bzcat /home/dsc/Data/challenge/bookings.csv.bz2 | head -n 10000 >> bookings.sample.csv"
   ]
  },
  {
   "cell_type": "code",
   "execution_count": 84,
   "metadata": {},
   "outputs": [],
   "source": [
    "!bzip2 -f bookings.sample.csv"
   ]
  },
  {
   "cell_type": "code",
   "execution_count": 94,
   "metadata": {},
   "outputs": [
    {
     "data": {
      "text/plain": [
       "'/home/dsc/Master-Kschool/CHALLENGE'"
      ]
     },
     "execution_count": 94,
     "metadata": {},
     "output_type": "execute_result"
    }
   ],
   "source": [
    "pwd"
   ]
  },
  {
   "cell_type": "code",
   "execution_count": 95,
   "metadata": {},
   "outputs": [
    {
     "name": "stdout",
     "output_type": "stream",
     "text": [
      "total 4020\r\n",
      "-rw-rw-r-- 1 dsc dsc  535893 nov 21 09:55 \u001b[0m\u001b[01;31mbookings.sample.csv.bz2\u001b[0m\r\n",
      "drwxrwxr-x 4 dsc dsc    4096 nov 21 10:03 \u001b[01;34mChallenge\u001b[0m/\r\n",
      "-rw-rw-r-- 1 dsc dsc   35474 nov 21 09:57 Challenge.ipynb\r\n",
      "-rw-rw-r-- 1 dsc dsc 3532530 nov 18 20:38 DS_Challenge.pdf\r\n",
      "-rw-rw-r-- 1 dsc dsc      72 nov 20 18:20 Untitled.ipynb\r\n"
     ]
    }
   ],
   "source": [
    "ls -l"
   ]
  },
  {
   "cell_type": "markdown",
   "metadata": {},
   "source": [
    "### Ejercicio nº1 \n",
    "- Count the number of lines in Python for each file"
   ]
  },
  {
   "cell_type": "code",
   "execution_count": 113,
   "metadata": {},
   "outputs": [],
   "source": [
    "# HACEMOS EL EJERCICIO CON UN SAMPLE PARA HACERLO MAS FACIL\n",
    "# CUANDO SALGA, LO IMPLEMENTAMOS A MAS NIVEL\n",
    "# abrimos con Python."
   ]
  },
  {
   "cell_type": "code",
   "execution_count": 114,
   "metadata": {},
   "outputs": [],
   "source": [
    "import pandas as pd"
   ]
  },
  {
   "cell_type": "code",
   "execution_count": 98,
   "metadata": {},
   "outputs": [],
   "source": [
    "import bz2 #primero importamos bz2 que sirve para descomprimir"
   ]
  },
  {
   "cell_type": "code",
   "execution_count": 106,
   "metadata": {},
   "outputs": [],
   "source": [
    "fileBz2=bz2.BZ2File('./bookings.sample.csv.bz2') #descomprimimos "
   ]
  },
  {
   "cell_type": "code",
   "execution_count": 107,
   "metadata": {},
   "outputs": [
    {
     "data": {
      "text/plain": [
       "bz2.BZ2File"
      ]
     },
     "execution_count": 107,
     "metadata": {},
     "output_type": "execute_result"
    }
   ],
   "source": [
    "type(fileBz2)"
   ]
  },
  {
   "cell_type": "code",
   "execution_count": 108,
   "metadata": {},
   "outputs": [
    {
     "data": {
      "text/plain": [
       "'/home/dsc/Master-Kschool/CHALLENGE'"
      ]
     },
     "execution_count": 108,
     "metadata": {},
     "output_type": "execute_result"
    }
   ],
   "source": [
    "pwd"
   ]
  },
  {
   "cell_type": "code",
   "execution_count": 109,
   "metadata": {},
   "outputs": [
    {
     "name": "stdout",
     "output_type": "stream",
     "text": [
      "total 4020\r\n",
      "-rw-rw-r-- 1 dsc dsc  535893 nov 21 09:55 \u001b[0m\u001b[01;31mbookings.sample.csv.bz2\u001b[0m\r\n",
      "drwxrwxr-x 4 dsc dsc    4096 nov 21 10:05 \u001b[01;34mChallenge\u001b[0m/\r\n",
      "-rw-rw-r-- 1 dsc dsc   35474 nov 21 09:57 Challenge.ipynb\r\n",
      "-rw-rw-r-- 1 dsc dsc 3532530 nov 18 20:38 DS_Challenge.pdf\r\n",
      "-rw-rw-r-- 1 dsc dsc      72 nov 20 18:20 Untitled.ipynb\r\n"
     ]
    }
   ],
   "source": [
    "ls -l"
   ]
  },
  {
   "cell_type": "code",
   "execution_count": 112,
   "metadata": {},
   "outputs": [
    {
     "name": "stdout",
     "output_type": "stream",
     "text": [
      "10000\n"
     ]
    }
   ],
   "source": [
    "fileBz2=bz2.BZ2File('./bookings.sample.csv.bz2')\n",
    "k=0\n",
    "for line in fileBz2:\n",
    "    k+=1\n",
    "print(k)"
   ]
  },
  {
   "cell_type": "code",
   "execution_count": 115,
   "metadata": {},
   "outputs": [],
   "source": [
    "#HEMOS SACADO LAS FILAS CON UN SARCHIVO DE SAMPLE.\n",
    "#COMO VEMOS QUE FUNCIONA, AHORA LO HACEMOS CON TODO EL ARCHIVO bookings.csv.bz2"
   ]
  },
  {
   "cell_type": "code",
   "execution_count": 117,
   "metadata": {},
   "outputs": [
    {
     "name": "stdout",
     "output_type": "stream",
     "text": [
      "10000011\n"
     ]
    }
   ],
   "source": [
    "archivogrande=bz2.BZ2File('/home/dsc/Data/challenge/bookings.csv.bz2') # LO CONSEGUIMOS #\n",
    "k=0\n",
    "for line in archivogrande:\n",
    "    k+=1\n",
    "print(k)"
   ]
  },
  {
   "cell_type": "markdown",
   "metadata": {},
   "source": [
    "### Ejercicio 2\n",
    "Top 10 arrival airports in the world in 2013 (using the bookings file)\n",
    "- Arrival airport is the column arr_port. It is the IATA code for the airport\n",
    "- To get the total number of passengers for an airport, you can sum the column pax, grouping by arr_port. Note that there is negative pax. That corresponds to cancelations. So to get the total number of passengers that have actually booked, you should sum including the negatives (that will remove the canceled bookings).\n",
    "- Print the top 10 arrival airports in the standard output, including the number of passengers.\n",
    "- Bonus point: Get the name of the city or airport corresponding to that airport (programatically, we suggest to have a look at GeoBases in Github)•Bonus point: Solve this problem using pandas (instead of any other approach)"
   ]
  },
  {
   "cell_type": "code",
   "execution_count": 118,
   "metadata": {},
   "outputs": [],
   "source": [
    "# EMPEZAMOS EL EJERCICIO UTILIZANDO EL ARCHIVO DE SAMPLE CREADO.\n",
    "# VEMOS EXACTAMENTE QUE ES LO QUE NOS PIDEN\n",
    "# HAY QUE HACERLO PASO A PASO PARA LUEGO IMPLEMENTARLO A MAS NIVEL"
   ]
  },
  {
   "cell_type": "code",
   "execution_count": 119,
   "metadata": {},
   "outputs": [],
   "source": [
    "import pandas as pd"
   ]
  },
  {
   "cell_type": "code",
   "execution_count": 120,
   "metadata": {},
   "outputs": [],
   "source": [
    "sample = pd.read_csv('/home/dsc/Master-Kschool/CHALLENGE/bookings.sample.csv.bz2')"
   ]
  },
  {
   "cell_type": "code",
   "execution_count": 121,
   "metadata": {},
   "outputs": [
    {
     "data": {
      "text/html": [
       "<div>\n",
       "<style scoped>\n",
       "    .dataframe tbody tr th:only-of-type {\n",
       "        vertical-align: middle;\n",
       "    }\n",
       "\n",
       "    .dataframe tbody tr th {\n",
       "        vertical-align: top;\n",
       "    }\n",
       "\n",
       "    .dataframe thead th {\n",
       "        text-align: right;\n",
       "    }\n",
       "</style>\n",
       "<table border=\"1\" class=\"dataframe\">\n",
       "  <thead>\n",
       "    <tr style=\"text-align: right;\">\n",
       "      <th></th>\n",
       "      <th>act_date           ^source^pos_ctry^pos_iata^pos_oid  ^rloc          ^cre_date           ^duration^distance^dep_port^dep_city^dep_ctry^arr_port^arr_city^arr_ctry^lst_port^lst_city^lst_ctry^brd_port^brd_city^brd_ctry^off_port^off_city^off_ctry^mkt_port^mkt_city^mkt_ctry^intl^route          ^carrier^bkg_class^cab_class^brd_time           ^off_time           ^pax^year^month^oid</th>\n",
       "    </tr>\n",
       "  </thead>\n",
       "  <tbody>\n",
       "    <tr>\n",
       "      <th>0</th>\n",
       "      <td>2013-03-05 00:00:00^1A    ^DE      ^a68dd7ae95...</td>\n",
       "    </tr>\n",
       "    <tr>\n",
       "      <th>1</th>\n",
       "      <td>2013-03-26 00:00:00^1A    ^US      ^e612b9eeee...</td>\n",
       "    </tr>\n",
       "    <tr>\n",
       "      <th>2</th>\n",
       "      <td>2013-03-26 00:00:00^1A    ^US      ^e612b9eeee...</td>\n",
       "    </tr>\n",
       "    <tr>\n",
       "      <th>3</th>\n",
       "      <td>2013-03-26 00:00:00^1A    ^AU      ^0f984b3bb6...</td>\n",
       "    </tr>\n",
       "    <tr>\n",
       "      <th>4</th>\n",
       "      <td>2013-03-26 00:00:00^1A    ^AU      ^0f984b3bb6...</td>\n",
       "    </tr>\n",
       "  </tbody>\n",
       "</table>\n",
       "</div>"
      ],
      "text/plain": [
       "  act_date           ^source^pos_ctry^pos_iata^pos_oid  ^rloc          ^cre_date           ^duration^distance^dep_port^dep_city^dep_ctry^arr_port^arr_city^arr_ctry^lst_port^lst_city^lst_ctry^brd_port^brd_city^brd_ctry^off_port^off_city^off_ctry^mkt_port^mkt_city^mkt_ctry^intl^route          ^carrier^bkg_class^cab_class^brd_time           ^off_time           ^pax^year^month^oid      \n",
       "0  2013-03-05 00:00:00^1A    ^DE      ^a68dd7ae95...                                                                                                                                                                                                                                                                                                                                             \n",
       "1  2013-03-26 00:00:00^1A    ^US      ^e612b9eeee...                                                                                                                                                                                                                                                                                                                                             \n",
       "2  2013-03-26 00:00:00^1A    ^US      ^e612b9eeee...                                                                                                                                                                                                                                                                                                                                             \n",
       "3  2013-03-26 00:00:00^1A    ^AU      ^0f984b3bb6...                                                                                                                                                                                                                                                                                                                                             \n",
       "4  2013-03-26 00:00:00^1A    ^AU      ^0f984b3bb6...                                                                                                                                                                                                                                                                                                                                             "
      ]
     },
     "execution_count": 121,
     "metadata": {},
     "output_type": "execute_result"
    }
   ],
   "source": [
    "sample.head()"
   ]
  },
  {
   "cell_type": "code",
   "execution_count": 122,
   "metadata": {},
   "outputs": [],
   "source": [
    "# primer problema. Las columnas estan separadas por ^.  Hay que arreglarlo"
   ]
  },
  {
   "cell_type": "code",
   "execution_count": 127,
   "metadata": {},
   "outputs": [],
   "source": [
    "sample = pd.read_csv('/home/dsc/Master-Kschool/CHALLENGE/bookings.sample.csv.bz2', sep='^') \n",
    "#lo solucionamos identificando el separador"
   ]
  },
  {
   "cell_type": "code",
   "execution_count": 128,
   "metadata": {},
   "outputs": [
    {
     "data": {
      "text/html": [
       "<div>\n",
       "<style scoped>\n",
       "    .dataframe tbody tr th:only-of-type {\n",
       "        vertical-align: middle;\n",
       "    }\n",
       "\n",
       "    .dataframe tbody tr th {\n",
       "        vertical-align: top;\n",
       "    }\n",
       "\n",
       "    .dataframe thead th {\n",
       "        text-align: right;\n",
       "    }\n",
       "</style>\n",
       "<table border=\"1\" class=\"dataframe\">\n",
       "  <thead>\n",
       "    <tr style=\"text-align: right;\">\n",
       "      <th></th>\n",
       "      <th>act_date</th>\n",
       "      <th>source</th>\n",
       "      <th>pos_ctry</th>\n",
       "      <th>pos_iata</th>\n",
       "      <th>pos_oid</th>\n",
       "      <th>rloc</th>\n",
       "      <th>cre_date</th>\n",
       "      <th>duration</th>\n",
       "      <th>distance</th>\n",
       "      <th>dep_port</th>\n",
       "      <th>...</th>\n",
       "      <th>route</th>\n",
       "      <th>carrier</th>\n",
       "      <th>bkg_class</th>\n",
       "      <th>cab_class</th>\n",
       "      <th>brd_time</th>\n",
       "      <th>off_time</th>\n",
       "      <th>pax</th>\n",
       "      <th>year</th>\n",
       "      <th>month</th>\n",
       "      <th>oid</th>\n",
       "    </tr>\n",
       "  </thead>\n",
       "  <tbody>\n",
       "    <tr>\n",
       "      <th>4193</th>\n",
       "      <td>2013-03-27 00:00:00</td>\n",
       "      <td>1A</td>\n",
       "      <td>SA</td>\n",
       "      <td>cef14771c2b13f4387ad6426799c324d</td>\n",
       "      <td>d48b3aeb3b7226e40d3b9c4c7ef5fd31</td>\n",
       "      <td>94a998689bb675d976724306413b2fb1</td>\n",
       "      <td>2013-03-27 00:00:00</td>\n",
       "      <td>5339</td>\n",
       "      <td>0</td>\n",
       "      <td>JED</td>\n",
       "      <td>...</td>\n",
       "      <td>MUCFRAJED</td>\n",
       "      <td>VR</td>\n",
       "      <td>D</td>\n",
       "      <td>C</td>\n",
       "      <td>2013-04-18 09:00:00</td>\n",
       "      <td>2013-04-18 19:14:33</td>\n",
       "      <td>1</td>\n",
       "      <td>2013</td>\n",
       "      <td>3</td>\n",
       "      <td>NULL</td>\n",
       "    </tr>\n",
       "    <tr>\n",
       "      <th>8710</th>\n",
       "      <td>2013-03-05 00:00:00</td>\n",
       "      <td>1V</td>\n",
       "      <td>US</td>\n",
       "      <td>9e5602e9a0901b51c44b2e3c9d52e805</td>\n",
       "      <td>6435f7a15c0edd6901df2bb136d59522</td>\n",
       "      <td>0d5c545a6a996b0d5bd22d56ec6a68ad</td>\n",
       "      <td>2013-03-04 00:00:00</td>\n",
       "      <td>3386</td>\n",
       "      <td>0</td>\n",
       "      <td>COS</td>\n",
       "      <td>...</td>\n",
       "      <td>COSDENMSP</td>\n",
       "      <td>FK</td>\n",
       "      <td>W</td>\n",
       "      <td>Y</td>\n",
       "      <td>2013-04-02 13:57:00</td>\n",
       "      <td>2013-04-02 18:46:03</td>\n",
       "      <td>1</td>\n",
       "      <td>2013</td>\n",
       "      <td>3</td>\n",
       "      <td>NULL</td>\n",
       "    </tr>\n",
       "    <tr>\n",
       "      <th>1203</th>\n",
       "      <td>2013-03-11 00:00:00</td>\n",
       "      <td>1A</td>\n",
       "      <td>EC</td>\n",
       "      <td>e86bd05f567341c18238a009590f697d</td>\n",
       "      <td>8bb8e394f22dc700bf0c59eb8bfd70cd</td>\n",
       "      <td>a31b349847b652eae844a515df3f3aec</td>\n",
       "      <td>2013-03-11 00:00:00</td>\n",
       "      <td>50985</td>\n",
       "      <td>1099</td>\n",
       "      <td>PVG</td>\n",
       "      <td>...</td>\n",
       "      <td>PVGAMSUIO</td>\n",
       "      <td>UV</td>\n",
       "      <td>Z</td>\n",
       "      <td>C</td>\n",
       "      <td>2013-03-13 23:55:00</td>\n",
       "      <td>2013-03-14 16:07:32</td>\n",
       "      <td>1</td>\n",
       "      <td>2013</td>\n",
       "      <td>3</td>\n",
       "      <td>UIOE12157</td>\n",
       "    </tr>\n",
       "    <tr>\n",
       "      <th>4203</th>\n",
       "      <td>2013-03-27 00:00:00</td>\n",
       "      <td>1A</td>\n",
       "      <td>CO</td>\n",
       "      <td>ec3ccc7aabeb29710073b8ba4569d6b6</td>\n",
       "      <td>10788b7c8fa90024e85a2f1f8ab375a6</td>\n",
       "      <td>c57ac2e890e4f7663e8367be75303e47</td>\n",
       "      <td>2013-03-27 00:00:00</td>\n",
       "      <td>74</td>\n",
       "      <td>376</td>\n",
       "      <td>MDE</td>\n",
       "      <td>...</td>\n",
       "      <td>MDECUC</td>\n",
       "      <td>KG</td>\n",
       "      <td>Z</td>\n",
       "      <td>C</td>\n",
       "      <td>2013-04-01 16:35:00</td>\n",
       "      <td>2013-04-01 17:49:33</td>\n",
       "      <td>1</td>\n",
       "      <td>2013</td>\n",
       "      <td>3</td>\n",
       "      <td>NULL</td>\n",
       "    </tr>\n",
       "    <tr>\n",
       "      <th>9823</th>\n",
       "      <td>2013-03-05 00:00:00</td>\n",
       "      <td>1P</td>\n",
       "      <td>US</td>\n",
       "      <td>4804033f441ee30d92980c8b2207e8ae</td>\n",
       "      <td>4868da7a1666bbbc5fe33d377690f8eb</td>\n",
       "      <td>74af37a6de5cb922eed87ceaeaf09661</td>\n",
       "      <td>2013-03-05 00:00:00</td>\n",
       "      <td>5580</td>\n",
       "      <td>0</td>\n",
       "      <td>YVR</td>\n",
       "      <td>...</td>\n",
       "      <td>HNLYVR</td>\n",
       "      <td>NV</td>\n",
       "      <td>T</td>\n",
       "      <td>Y</td>\n",
       "      <td>2013-04-29 22:10:00</td>\n",
       "      <td>2013-04-30 07:05:07</td>\n",
       "      <td>1</td>\n",
       "      <td>2013</td>\n",
       "      <td>3</td>\n",
       "      <td>NULL</td>\n",
       "    </tr>\n",
       "  </tbody>\n",
       "</table>\n",
       "<p>5 rows × 38 columns</p>\n",
       "</div>"
      ],
      "text/plain": [
       "      act_date             source  pos_ctry                          pos_iata  \\\n",
       "4193  2013-03-27 00:00:00  1A      SA        cef14771c2b13f4387ad6426799c324d   \n",
       "8710  2013-03-05 00:00:00  1V      US        9e5602e9a0901b51c44b2e3c9d52e805   \n",
       "1203  2013-03-11 00:00:00  1A      EC        e86bd05f567341c18238a009590f697d   \n",
       "4203  2013-03-27 00:00:00  1A      CO        ec3ccc7aabeb29710073b8ba4569d6b6   \n",
       "9823  2013-03-05 00:00:00  1P      US        4804033f441ee30d92980c8b2207e8ae   \n",
       "\n",
       "                             pos_oid                      rloc            \\\n",
       "4193  d48b3aeb3b7226e40d3b9c4c7ef5fd31  94a998689bb675d976724306413b2fb1   \n",
       "8710  6435f7a15c0edd6901df2bb136d59522  0d5c545a6a996b0d5bd22d56ec6a68ad   \n",
       "1203  8bb8e394f22dc700bf0c59eb8bfd70cd  a31b349847b652eae844a515df3f3aec   \n",
       "4203  10788b7c8fa90024e85a2f1f8ab375a6  c57ac2e890e4f7663e8367be75303e47   \n",
       "9823  4868da7a1666bbbc5fe33d377690f8eb  74af37a6de5cb922eed87ceaeaf09661   \n",
       "\n",
       "      cre_date             duration  distance  dep_port    ...      \\\n",
       "4193  2013-03-27 00:00:00      5339         0  JED         ...       \n",
       "8710  2013-03-04 00:00:00      3386         0  COS         ...       \n",
       "1203  2013-03-11 00:00:00     50985      1099  PVG         ...       \n",
       "4203  2013-03-27 00:00:00        74       376  MDE         ...       \n",
       "9823  2013-03-05 00:00:00      5580         0  YVR         ...       \n",
       "\n",
       "      route           carrier  bkg_class  cab_class  brd_time             \\\n",
       "4193  MUCFRAJED            VR  D          C          2013-04-18 09:00:00   \n",
       "8710  COSDENMSP            FK  W          Y          2013-04-02 13:57:00   \n",
       "1203  PVGAMSUIO            UV  Z          C          2013-03-13 23:55:00   \n",
       "4203  MDECUC               KG  Z          C          2013-04-01 16:35:00   \n",
       "9823     HNLYVR            NV  T          Y          2013-04-29 22:10:00   \n",
       "\n",
       "      off_time            pax  year month  oid        \n",
       "4193  2013-04-18 19:14:33   1  2013     3  NULL       \n",
       "8710  2013-04-02 18:46:03   1  2013     3  NULL       \n",
       "1203  2013-03-14 16:07:32   1  2013     3  UIOE12157  \n",
       "4203  2013-04-01 17:49:33   1  2013     3  NULL       \n",
       "9823  2013-04-30 07:05:07   1  2013     3  NULL       \n",
       "\n",
       "[5 rows x 38 columns]"
      ]
     },
     "execution_count": 128,
     "metadata": {},
     "output_type": "execute_result"
    }
   ],
   "source": [
    "sample.sample(5)"
   ]
  },
  {
   "cell_type": "code",
   "execution_count": 154,
   "metadata": {},
   "outputs": [],
   "source": [
    "selection = sample[['arr_port','pax' ]]\n",
    "#creo una variable con las columnas que me importan para sacar el ejercicio"
   ]
  },
  {
   "cell_type": "code",
   "execution_count": 158,
   "metadata": {},
   "outputs": [
    {
     "data": {
      "text/html": [
       "<div>\n",
       "<style scoped>\n",
       "    .dataframe tbody tr th:only-of-type {\n",
       "        vertical-align: middle;\n",
       "    }\n",
       "\n",
       "    .dataframe tbody tr th {\n",
       "        vertical-align: top;\n",
       "    }\n",
       "\n",
       "    .dataframe thead th {\n",
       "        text-align: right;\n",
       "    }\n",
       "</style>\n",
       "<table border=\"1\" class=\"dataframe\">\n",
       "  <thead>\n",
       "    <tr style=\"text-align: right;\">\n",
       "      <th></th>\n",
       "      <th>arr_port</th>\n",
       "      <th>pax</th>\n",
       "    </tr>\n",
       "  </thead>\n",
       "  <tbody>\n",
       "    <tr>\n",
       "      <th>0</th>\n",
       "      <td>LHR</td>\n",
       "      <td>-1</td>\n",
       "    </tr>\n",
       "    <tr>\n",
       "      <th>1</th>\n",
       "      <td>CLT</td>\n",
       "      <td>1</td>\n",
       "    </tr>\n",
       "    <tr>\n",
       "      <th>2</th>\n",
       "      <td>CLT</td>\n",
       "      <td>1</td>\n",
       "    </tr>\n",
       "    <tr>\n",
       "      <th>3</th>\n",
       "      <td>SVO</td>\n",
       "      <td>1</td>\n",
       "    </tr>\n",
       "    <tr>\n",
       "      <th>4</th>\n",
       "      <td>SVO</td>\n",
       "      <td>1</td>\n",
       "    </tr>\n",
       "  </tbody>\n",
       "</table>\n",
       "</div>"
      ],
      "text/plain": [
       "   arr_port  pax\n",
       "0  LHR        -1\n",
       "1  CLT         1\n",
       "2  CLT         1\n",
       "3  SVO         1\n",
       "4  SVO         1"
      ]
     },
     "execution_count": 158,
     "metadata": {},
     "output_type": "execute_result"
    }
   ],
   "source": [
    "selection.head()"
   ]
  },
  {
   "cell_type": "code",
   "execution_count": 161,
   "metadata": {},
   "outputs": [
    {
     "data": {
      "text/html": [
       "<div>\n",
       "<style scoped>\n",
       "    .dataframe tbody tr th:only-of-type {\n",
       "        vertical-align: middle;\n",
       "    }\n",
       "\n",
       "    .dataframe tbody tr th {\n",
       "        vertical-align: top;\n",
       "    }\n",
       "\n",
       "    .dataframe thead th {\n",
       "        text-align: right;\n",
       "    }\n",
       "</style>\n",
       "<table border=\"1\" class=\"dataframe\">\n",
       "  <thead>\n",
       "    <tr style=\"text-align: right;\">\n",
       "      <th></th>\n",
       "      <th>pax</th>\n",
       "    </tr>\n",
       "    <tr>\n",
       "      <th>arr_port</th>\n",
       "      <th></th>\n",
       "    </tr>\n",
       "  </thead>\n",
       "  <tbody>\n",
       "    <tr>\n",
       "      <th>AAL</th>\n",
       "      <td>0</td>\n",
       "    </tr>\n",
       "    <tr>\n",
       "      <th>ABQ</th>\n",
       "      <td>12</td>\n",
       "    </tr>\n",
       "  </tbody>\n",
       "</table>\n",
       "</div>"
      ],
      "text/plain": [
       "          pax\n",
       "arr_port     \n",
       "AAL         0\n",
       "ABQ        12"
      ]
     },
     "execution_count": 161,
     "metadata": {},
     "output_type": "execute_result"
    }
   ],
   "source": [
    "# ahora saco la suma y los datos agrupadas las columnas seleccionadas\n",
    "#1ª forma de hacerlo\n",
    "import numpy as np\n",
    "sample.groupby(['arr_port']).agg({'pax':sum}).head(2)"
   ]
  },
  {
   "cell_type": "code",
   "execution_count": 162,
   "metadata": {},
   "outputs": [
    {
     "data": {
      "text/html": [
       "<div>\n",
       "<style scoped>\n",
       "    .dataframe tbody tr th:only-of-type {\n",
       "        vertical-align: middle;\n",
       "    }\n",
       "\n",
       "    .dataframe tbody tr th {\n",
       "        vertical-align: top;\n",
       "    }\n",
       "\n",
       "    .dataframe thead th {\n",
       "        text-align: right;\n",
       "    }\n",
       "</style>\n",
       "<table border=\"1\" class=\"dataframe\">\n",
       "  <thead>\n",
       "    <tr style=\"text-align: right;\">\n",
       "      <th></th>\n",
       "      <th>pax</th>\n",
       "    </tr>\n",
       "    <tr>\n",
       "      <th>arr_port</th>\n",
       "      <th></th>\n",
       "    </tr>\n",
       "  </thead>\n",
       "  <tbody>\n",
       "    <tr>\n",
       "      <th>AAL</th>\n",
       "      <td>0</td>\n",
       "    </tr>\n",
       "    <tr>\n",
       "      <th>ABQ</th>\n",
       "      <td>12</td>\n",
       "    </tr>\n",
       "  </tbody>\n",
       "</table>\n",
       "</div>"
      ],
      "text/plain": [
       "          pax\n",
       "arr_port     \n",
       "AAL         0\n",
       "ABQ        12"
      ]
     },
     "execution_count": 162,
     "metadata": {},
     "output_type": "execute_result"
    }
   ],
   "source": [
    "#2ª forma de hacerlo\n",
    "selection.groupby(['arr_port']).sum().head(2)"
   ]
  },
  {
   "cell_type": "code",
   "execution_count": 172,
   "metadata": {},
   "outputs": [
    {
     "data": {
      "text/plain": [
       "arr_port\n",
       "HKG         112\n",
       "LGA          95\n",
       "ORD          94\n",
       "JFK          92\n",
       "SFO          91\n",
       "LAX          91\n",
       "MCO          90\n",
       "DCA          82\n",
       "DEN          79\n",
       "LHR          76\n",
       "Name: pax, dtype: int64"
      ]
     },
     "execution_count": 172,
     "metadata": {},
     "output_type": "execute_result"
    }
   ],
   "source": [
    "# Resultado del primer punto del segundo ejercicio\n",
    "# Hemos sacado Top 10 arrival airports in the world in 2013 (using the bookings file)\n",
    "# Esta hecho sobre el archivo d\n",
    "sample.groupby('arr_port').sum()['pax'].sort_values(ascending = False)[:10]\n"
   ]
  },
  {
   "cell_type": "code",
   "execution_count": null,
   "metadata": {},
   "outputs": [],
   "source": []
  }
 ],
 "metadata": {
  "kernelspec": {
   "display_name": "Python 3",
   "language": "python",
   "name": "python3"
  },
  "language_info": {
   "codemirror_mode": {
    "name": "ipython",
    "version": 3
   },
   "file_extension": ".py",
   "mimetype": "text/x-python",
   "name": "python",
   "nbconvert_exporter": "python",
   "pygments_lexer": "ipython3",
   "version": "3.7.1"
  }
 },
 "nbformat": 4,
 "nbformat_minor": 2
}
